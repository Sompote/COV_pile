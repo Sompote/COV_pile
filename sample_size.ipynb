{
  "nbformat": 4,
  "nbformat_minor": 0,
  "metadata": {
    "colab": {
      "name": "sample_size.ipynb",
      "provenance": [],
      "authorship_tag": "ABX9TyMfTp2OeoaE9kZvVcqh36OD"
    },
    "kernelspec": {
      "name": "python3",
      "display_name": "Python 3"
    },
    "language_info": {
      "name": "python"
    }
  },
  "cells": [
    {
      "cell_type": "code",
      "metadata": {
        "colab": {
          "base_uri": "https://localhost:8080/"
        },
        "id": "4a4AvT2sCUwN",
        "outputId": "53c2c866-dbb4-4f52-8af9-0f03fbd43a5c"
      },
      "source": [
        "#sample size calculate \n",
        "#by Dr. Sompote Youwai May 2021\n",
        "import math\n",
        " \n",
        "# SUPPORTED CONFIDENCE LEVELS: 50%, 68%, 90%, 95%, and 99%\n",
        "confidence_level_constant = [50,.67], [68,.99], [90,1.64], [95,1.96], [99,2.57]\n",
        " \n",
        "# CALCULATE THE SAMPLE SIZE\n",
        "def sample_size(population_size, confidence_level, confidence_interval):\n",
        "  Z = 0.0\n",
        "  p = 0.5\n",
        "  e = confidence_interval/100.0\n",
        "  N = population_size\n",
        "  n_0 = 0.0\n",
        "  n = 0.0\n",
        " \n",
        "  # LOOP THROUGH SUPPORTED CONFIDENCE LEVELS AND FIND THE NUM STD\n",
        "  # DEVIATIONS FOR THAT CONFIDENCE LEVEL\n",
        "  for i in confidence_level_constant:\n",
        "    if i[0] == confidence_level:\n",
        "      Z = i[1]\n",
        " \n",
        "  if Z == 0.0:\n",
        "    return -1\n",
        " \n",
        "  # CALC SAMPLE SIZE\n",
        "  n_0 = ((Z**2) * p * (1-p)) / (e**2)\n",
        " \n",
        "  # ADJUST SAMPLE SIZE FOR FINITE POPULATION\n",
        "  n = n_0 / (1 + ((n_0 - 1) / float(N)) )\n",
        " \n",
        "  return int(math.ceil(n)) # THE SAMPLE SIZE\n",
        " \n",
        "def main():\n",
        "  sample_sz = 0\n",
        "  population_sz = 150000\n",
        "  confidence_level = 95.0\n",
        "  confidence_interval = 10\n",
        " \n",
        "  sample_sz = sample_size(population_sz, confidence_level, confidence_interval)\n",
        "  test=population_sz/sample_sz\n",
        "  print(\"SAMPLE SIZE: %d\" %sample_sz)\n",
        "  print(\"test: %d\" %test)\n",
        " \n",
        "if __name__ == \"__main__\":\n",
        "  main()"
      ],
      "execution_count": 22,
      "outputs": [
        {
          "output_type": "stream",
          "text": [
            "SAMPLE SIZE: 96\n",
            "test: 1562\n"
          ],
          "name": "stdout"
        }
      ]
    },
    {
      "cell_type": "code",
      "metadata": {
        "id": "FsnLnagAEh5T"
      },
      "source": [
        ""
      ],
      "execution_count": null,
      "outputs": []
    }
  ]
}