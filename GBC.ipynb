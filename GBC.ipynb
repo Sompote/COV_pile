{
  "nbformat": 4,
  "nbformat_minor": 0,
  "metadata": {
    "colab": {
      "name": "GBC.ipynb",
      "provenance": [],
      "authorship_tag": "ABX9TyO4vr04xFg/gwTNeEIOFgSc",
      "include_colab_link": true
    },
    "kernelspec": {
      "name": "python3",
      "display_name": "Python 3"
    }
  },
  "cells": [
    {
      "cell_type": "markdown",
      "metadata": {
        "id": "view-in-github",
        "colab_type": "text"
      },
      "source": [
        "<a href=\"https://colab.research.google.com/github/Sompote/COV_pile/blob/main/GBC.ipynb\" target=\"_parent\"><img src=\"https://colab.research.google.com/assets/colab-badge.svg\" alt=\"Open In Colab\"/></a>"
      ]
    },
    {
      "cell_type": "code",
      "metadata": {
        "id": "XheLGnXIhl-r"
      },
      "source": [
        "#bearing capacity by Dr. Sompote 2021\n",
        "from math import *\n",
        "import numpy as np\n",
        "import pandas as pd"
      ],
      "execution_count": null,
      "outputs": []
    },
    {
      "cell_type": "code",
      "metadata": {
        "colab": {
          "base_uri": "https://localhost:8080/",
          "height": 131
        },
        "id": "FPmidj_eho_L",
        "outputId": "dfc5734f-a372-4ed3-ba81-e08abe3b28a8"
      },
      "source": [
        "def bearing(phi):\n",
        "  if phi==0:\n",
        "    Nc=5.14\n",
        "    Nq=1\n",
        "    Ny=0\n",
        "  else: \n",
        "    ϕ=phi*(np.pi/180)\n",
        "    ϕ1=(45+(phi/2))*(pi/180)\n",
        "    Nq=((np.tan(ϕ1))**2)*(np.e**(pi*tan(ϕ)))\n",
        "    Ny=2*(Nq+1)*tan(ϕ)\n",
        "    Nc = (Nq-1)/tan(ϕ)\n",
        "  return Nc, Nq, Ny\n",
        "\n",
        "def factor(phi,Nc, Nq,B,L,D,beta):\n",
        "  #Shape factor (Debeer,1970)\n",
        "  \n",
        "  ϕ =(phi/180*pi)\n",
        "  Fcs =1+ (B/L)*(Nq/Nc) \n",
        "  Fqs =1+(B/L)*tan(ϕ)\n",
        "  Fγs = 1-0.4*(B/L) \n",
        "\n",
        "  #Depth factor\n",
        "  if (D/B) > 1:\n",
        "    if (phi ==0):\n",
        "      Fcd = 1+0.4*atan(D/B)\n",
        "      Fqd=1\n",
        "      Fγd = 1\n",
        "    else:\n",
        "      Fγd = 1\n",
        "      Fqd =1+(2*tan(ϕ)*(1-(sin(ϕ))**2)*atan(D/B))\n",
        "      Fcd = Fqd - ((1-Fqd)/(Nc*tan(ϕ)))\n",
        "  else:#(D/B)<1:\n",
        "      if (phi ==0) :\n",
        "        Fcd = 1+0.4*(D/B)\n",
        "        Fqd=1\n",
        "        Fγd = 1\n",
        "      else: \n",
        "        Fqd= 1+2*tan(ϕ)*(1-sin(ϕ))**2*(D/B)\n",
        "        Fcd=Fqd-(1-Fqd)/(Nc*tan(ϕ))\n",
        "        Fγd = 1\n",
        "  #Inclination\n",
        "  Fci = (1-(beta/90))**2                       # Meyerhof (1963) ; Hanna and\n",
        "  Fqi =(1-(beta/90))**2                        # Meyerhof (1981)\n",
        "  if phi>0:\n",
        "    Fyi = (1-(beta/phi))**2\n",
        "  else:\n",
        "    Fyi= 1\n",
        "  return Fcs, Fqs, Fγs, Fcd, Fqd, Fγd, Fci, Fqi, Fyi\n",
        "#Paramters\n",
        "fee =25\n",
        "gam=16.5\n",
        "c=20\n",
        "B=2\n",
        "L=2\n",
        "D=1.5\n",
        "beta=0 #inclinaiton factor\n",
        "q=D*gam\n",
        "#calculaiton\n",
        "Nc, Nq,Ng=bearing(fee)\n",
        "fcs,fqs,fgs,fcd,fqd,fgd,fci,fqi,fgi=factor(fee,bearing(fee)[0],\n",
        "                                           bearing(fee)[1], B, L, D,beta)\n",
        "qult=c*Nc*(fcs*fcd*fci)+q*Nq*(fqs*fqd*fqi)+0.5*gam*B*Ng*(fgs*fgd*fgi)\n",
        "print('qult=',qult, 'kPa')\n",
        "\n",
        "#show value add factor in dataframe\n",
        "fac=np.array(bearing(fee))\n",
        "fac=fac.reshape(1,3)\n",
        "df1=pd.DataFrame(fac,columns=['Nc', 'Nq', 'Ng'])\n",
        "print(df1)\n",
        "fac_adjust=np.array(factor(fee,bearing(fee)[0],bearing(fee)[1], B, L, D,beta))\n",
        "fac_adjust=fac_adjust.reshape(1,9)\n",
        "df=pd.DataFrame(fac_adjust,columns=(['Fcs', 'Fqs', 'Fgs',\n",
        "                               'Fcd','Fqd','Fgd','Fci','Fqi','Fgi']))\n",
        "df"
      ],
      "execution_count": null,
      "outputs": [
        {
          "output_type": "stream",
          "text": [
            "qult= 1373.9995219835032 kPa\n",
            "          Nc         Nq         Ng\n",
            "0  20.720531  10.662142  10.876293\n"
          ],
          "name": "stdout"
        },
        {
          "output_type": "execute_result",
          "data": {
            "text/html": [
              "<div>\n",
              "<style scoped>\n",
              "    .dataframe tbody tr th:only-of-type {\n",
              "        vertical-align: middle;\n",
              "    }\n",
              "\n",
              "    .dataframe tbody tr th {\n",
              "        vertical-align: top;\n",
              "    }\n",
              "\n",
              "    .dataframe thead th {\n",
              "        text-align: right;\n",
              "    }\n",
              "</style>\n",
              "<table border=\"1\" class=\"dataframe\">\n",
              "  <thead>\n",
              "    <tr style=\"text-align: right;\">\n",
              "      <th></th>\n",
              "      <th>Fcs</th>\n",
              "      <th>Fqs</th>\n",
              "      <th>Fgs</th>\n",
              "      <th>Fcd</th>\n",
              "      <th>Fqd</th>\n",
              "      <th>Fgd</th>\n",
              "      <th>Fci</th>\n",
              "      <th>Fqi</th>\n",
              "      <th>Fgi</th>\n",
              "    </tr>\n",
              "  </thead>\n",
              "  <tbody>\n",
              "    <tr>\n",
              "      <th>0</th>\n",
              "      <td>1.514569</td>\n",
              "      <td>1.466308</td>\n",
              "      <td>0.6</td>\n",
              "      <td>1.257313</td>\n",
              "      <td>1.233179</td>\n",
              "      <td>1.0</td>\n",
              "      <td>1.0</td>\n",
              "      <td>1.0</td>\n",
              "      <td>1.0</td>\n",
              "    </tr>\n",
              "  </tbody>\n",
              "</table>\n",
              "</div>"
            ],
            "text/plain": [
              "        Fcs       Fqs  Fgs       Fcd       Fqd  Fgd  Fci  Fqi  Fgi\n",
              "0  1.514569  1.466308  0.6  1.257313  1.233179  1.0  1.0  1.0  1.0"
            ]
          },
          "metadata": {
            "tags": []
          },
          "execution_count": 39
        }
      ]
    },
    {
      "cell_type": "code",
      "metadata": {
        "id": "83uspp5iiMz5"
      },
      "source": [
        ""
      ],
      "execution_count": null,
      "outputs": []
    }
  ]
}