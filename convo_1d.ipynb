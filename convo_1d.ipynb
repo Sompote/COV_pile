{
  "nbformat": 4,
  "nbformat_minor": 0,
  "metadata": {
    "colab": {
      "provenance": [],
      "mount_file_id": "1J8SvX1_8rXCCzEJvgSROIHZH7w-_VC2T",
      "authorship_tag": "ABX9TyMBiclzaSYVApfDFT2J9ZvL",
      "include_colab_link": true
    },
    "kernelspec": {
      "name": "python3",
      "display_name": "Python 3"
    },
    "language_info": {
      "name": "python"
    }
  },
  "cells": [
    {
      "cell_type": "markdown",
      "metadata": {
        "id": "view-in-github",
        "colab_type": "text"
      },
      "source": [
        "<a href=\"https://colab.research.google.com/github/Sompote/COV_pile/blob/main/convo_1d.ipynb\" target=\"_parent\"><img src=\"https://colab.research.google.com/assets/colab-badge.svg\" alt=\"Open In Colab\"/></a>"
      ]
    },
    {
      "cell_type": "code",
      "source": [
        "#conv1D predict pile cpapcity from ARUCO target by Dr. Sompote Youwai 2023\n",
        "import numpy as np\n",
        "import pandas as pd\n",
        "\n",
        "df = pd.read_excel(\"/content/drive/MyDrive/Pile/Datan.xlsx\")\n",
        "df_feature = pd.read_excel(\"/content/drive/MyDrive/Pile/featuren.xlsx\")\n",
        "df_y = pd.read_excel(\"/content/drive/MyDrive/Pile/label.xlsx\")\n",
        "\n",
        "# Get number of samples\n",
        "num_samples = len(df.columns)\n",
        "time_step=len(df.index)\n",
        "no_feature=len(df_feature.index)\n",
        "\n",
        "# Get time series data\n",
        "data=np.array(df)\n",
        "data_f=df_feature.values\n",
        "y=np.asarray(df_y)\n",
        "y=np.reshape(y,(y.shape[1],1))\n",
        "data=np.reshape(data, (num_samples,time_step))\n",
        "# Create array data\n",
        "array_data = np.zeros((num_samples, data.shape[1],no_feature+1))\n",
        "array_data[:,:,0]=data #add time step\n",
        "#add feature\n",
        "for m in range(0,array_data.shape[0]): #add sample\n",
        "\n",
        "  for n in range(0,data_f.shape[0]): #add feature\n",
        "    array_data[m,:,n+1]=data_f[n,m]\n",
        " \n",
        " \n",
        "  #array_data[0,:,1]=data_f[0,0]\n",
        "  #array_data[0,:,2]=data_f[0,1]\n",
        "\n",
        "#array_data[1,:,1]=data_f[1,0]\n",
        "\n"
      ],
      "metadata": {
        "id": "IQ5rPNF1VP2p"
      },
      "execution_count": null,
      "outputs": []
    },
    {
      "cell_type": "code",
      "source": [
        "y"
      ],
      "metadata": {
        "colab": {
          "base_uri": "https://localhost:8080/"
        },
        "id": "BiFyCrfmGLK_",
        "outputId": "bb4d08e9-b6f5-459c-ce4a-96eb9f73efc4"
      },
      "execution_count": null,
      "outputs": [
        {
          "output_type": "execute_result",
          "data": {
            "text/plain": [
              "array([[ 59],\n",
              "       [ 63],\n",
              "       [ 58],\n",
              "       [ 66],\n",
              "       [ 99],\n",
              "       [100],\n",
              "       [ 98],\n",
              "       [ 98],\n",
              "       [ 61],\n",
              "       [ 67],\n",
              "       [ 64],\n",
              "       [ 67],\n",
              "       [ 70],\n",
              "       [ 69],\n",
              "       [ 70],\n",
              "       [ 71],\n",
              "       [ 70],\n",
              "       [ 64],\n",
              "       [ 67],\n",
              "       [ 69],\n",
              "       [ 67],\n",
              "       [ 68],\n",
              "       [ 55],\n",
              "       [ 58],\n",
              "       [ 90],\n",
              "       [ 62],\n",
              "       [ 60]])"
            ]
          },
          "metadata": {},
          "execution_count": 51
        }
      ]
    },
    {
      "cell_type": "code",
      "source": [
        "data_f.shape"
      ],
      "metadata": {
        "colab": {
          "base_uri": "https://localhost:8080/"
        },
        "id": "TB37BJFtjWRB",
        "outputId": "f9048bb1-f6c1-4ed2-9eb9-891e750750ca"
      },
      "execution_count": null,
      "outputs": [
        {
          "output_type": "execute_result",
          "data": {
            "text/plain": [
              "(7, 27)"
            ]
          },
          "metadata": {},
          "execution_count": 24
        }
      ]
    },
    {
      "cell_type": "code",
      "execution_count": null,
      "metadata": {
        "colab": {
          "base_uri": "https://localhost:8080/"
        },
        "id": "c0Vfqcum8IbW",
        "outputId": "a17c612f-f972-403c-8863-993db7953578"
      },
      "outputs": [
        {
          "output_type": "stream",
          "name": "stdout",
          "text": [
            "1/1 [==============================] - 0s 110ms/step\n",
            "MAPE: 0.479009007242093\n",
            "1/1 [==============================] - 0s 28ms/step\n",
            "MAPE: 0.41833785013363417\n",
            "1/1 [==============================] - 0s 24ms/step\n",
            "MAPE: 0.19214871553806961\n",
            "1/1 [==============================] - 0s 24ms/step\n",
            "MAPE: 0.055466112193491436\n",
            "1/1 [==============================] - 0s 27ms/step\n",
            "MAPE: 0.10174745857814053\n"
          ]
        }
      ],
      "source": [
        "import tensorflow as tf\n",
        "import numpy as np\n",
        "from sklearn.model_selection import KFold # Import KFold class\n",
        "from sklearn.metrics import mean_absolute_percentage_error # Import MAPE function\n",
        "\n",
        "'''# Define hyperparameters\n",
        "n_steps = 100 # Number of time steps per sample\n",
        "n_features = 3 # Number of features per time step such as pile length or diameter and soil data '''\n",
        "n_filters = 32 # Number of filters in the convolutional layer\n",
        "kernel_size = 3 # Size of the convolutional kernel\n",
        "\n",
        "n_output = 1 \n",
        "# Generate some dummy data\n",
        "#X = np.random.randn(100, n_steps, n_features) # 100 samples of 100 time steps with 1 feature each\n",
        "X=array_data\n",
        "#y = np.random.randn(num_samples, n_output) # 100 labels of 1 output unit each\n",
        "\n",
        "# Define the model\n",
        "model = tf.keras.Sequential()\n",
        "model.add(tf.keras.layers.Conv1D(filters=n_filters, kernel_size=kernel_size, activation='relu', input_shape=(X.shape[1], X.shape[2])))\n",
        "model.add(tf.keras.layers.MaxPooling1D(pool_size=2))\n",
        "model.add(tf.keras.layers.Conv1D(filters=n_filters, kernel_size=kernel_size, activation='relu'))\n",
        "model.add(tf.keras.layers.MaxPooling1D(pool_size=2))\n",
        "model.add(tf.keras.layers.Conv1D(filters=n_filters, kernel_size=kernel_size, activation='relu'))\n",
        "model.add(tf.keras.layers.MaxPooling1D(pool_size=2))\n",
        "model.add(tf.keras.layers.Flatten())\n",
        "model.add(tf.keras.layers.Dense(n_output))\n",
        "\n",
        "# Compile the model\n",
        "model.compile(optimizer='adam', loss='mse')\n",
        "\n",
        "# Create a KFold object with 5 folds\n",
        "kf = KFold(n_splits=5)\n",
        "\n",
        "# Loop over the folds\n",
        "for train_index, test_index in kf.split(X):\n",
        "    # Split the data into train and test sets\n",
        "    X_train, X_test = X[train_index], X[test_index]\n",
        "    y_train, y_test = y[train_index], y[test_index]\n",
        "\n",
        "    # Fit the model on the train set\n",
        "    model.fit(X_train, y_train, epochs=10, verbose =0)\n",
        "\n",
        "    # Predict on the test set\n",
        "    y_pred = model.predict(X_test)\n",
        "\n",
        "    # Calculate the MAPE on the test set\n",
        "    mape = mean_absolute_percentage_error(y_test, y_pred)\n",
        "    print(f'MAPE: {mape}')"
      ]
    },
    {
      "cell_type": "code",
      "source": [
        "print(model.summary())"
      ],
      "metadata": {
        "colab": {
          "base_uri": "https://localhost:8080/"
        },
        "id": "s70552Gr8Qu_",
        "outputId": "85de0837-1638-4438-c63f-fcb2656869ac"
      },
      "execution_count": null,
      "outputs": [
        {
          "output_type": "stream",
          "name": "stdout",
          "text": [
            "Model: \"sequential_14\"\n",
            "_________________________________________________________________\n",
            " Layer (type)                Output Shape              Param #   \n",
            "=================================================================\n",
            " conv1d_29 (Conv1D)          (None, 1998, 32)          800       \n",
            "                                                                 \n",
            " max_pooling1d_29 (MaxPoolin  (None, 999, 32)          0         \n",
            " g1D)                                                            \n",
            "                                                                 \n",
            " conv1d_30 (Conv1D)          (None, 997, 32)           3104      \n",
            "                                                                 \n",
            " max_pooling1d_30 (MaxPoolin  (None, 498, 32)          0         \n",
            " g1D)                                                            \n",
            "                                                                 \n",
            " conv1d_31 (Conv1D)          (None, 496, 32)           3104      \n",
            "                                                                 \n",
            " max_pooling1d_31 (MaxPoolin  (None, 248, 32)          0         \n",
            " g1D)                                                            \n",
            "                                                                 \n",
            " flatten_14 (Flatten)        (None, 7936)              0         \n",
            "                                                                 \n",
            " dense_16 (Dense)            (None, 1)                 7937      \n",
            "                                                                 \n",
            "=================================================================\n",
            "Total params: 14,945\n",
            "Trainable params: 14,945\n",
            "Non-trainable params: 0\n",
            "_________________________________________________________________\n",
            "None\n"
          ]
        }
      ]
    },
    {
      "cell_type": "code",
      "source": [
        "y_train.shape"
      ],
      "metadata": {
        "colab": {
          "base_uri": "https://localhost:8080/"
        },
        "id": "0yjuSH97lCPp",
        "outputId": "ffd7f331-325f-4fa9-c2f8-e5878cbaea78"
      },
      "execution_count": null,
      "outputs": [
        {
          "output_type": "execute_result",
          "data": {
            "text/plain": [
              "(3, 1)"
            ]
          },
          "metadata": {},
          "execution_count": 60
        }
      ]
    },
    {
      "cell_type": "markdown",
      "source": [],
      "metadata": {
        "id": "X-WbWAol-c9m"
      }
    }
  ]
}